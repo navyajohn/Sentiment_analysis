{
 "cells": [
  {
   "cell_type": "code",
   "execution_count": 87,
   "metadata": {
    "id": "1eCJw73DvND4"
   },
   "outputs": [],
   "source": [
    "import numpy as np\n",
    "import pandas as pd\n",
    "import os\n",
    "import matplotlib.pyplot as plt\n",
    "import seaborn as sns"
   ]
  },
  {
   "cell_type": "code",
   "execution_count": 89,
   "metadata": {
    "id": "mEPAdYbR6su3"
   },
   "outputs": [],
   "source": [
    "#from helper_functions import unzip_data, create_tensorboard_callback, plot_loss_curves, compare_historys\n",
    "# Create directory to save TensorBoard logs\n",
    "#SAVE_DIR = \"model_logs\""
   ]
  },
  {
   "cell_type": "code",
   "execution_count": 91,
   "metadata": {
    "colab": {
     "base_uri": "https://localhost:8080/",
     "height": 536
    },
    "id": "q9xGT0rH64WJ",
    "outputId": "a77aafd4-d467-4847-dc2d-d37b36ce9441"
   },
   "outputs": [
    {
     "data": {
      "text/html": [
       "<div>\n",
       "<style scoped>\n",
       "    .dataframe tbody tr th:only-of-type {\n",
       "        vertical-align: middle;\n",
       "    }\n",
       "\n",
       "    .dataframe tbody tr th {\n",
       "        vertical-align: top;\n",
       "    }\n",
       "\n",
       "    .dataframe thead th {\n",
       "        text-align: right;\n",
       "    }\n",
       "</style>\n",
       "<table border=\"1\" class=\"dataframe\">\n",
       "  <thead>\n",
       "    <tr style=\"text-align: right;\">\n",
       "      <th></th>\n",
       "      <th>product_name</th>\n",
       "      <th>product_price</th>\n",
       "      <th>Rate</th>\n",
       "      <th>Review</th>\n",
       "      <th>Summary</th>\n",
       "      <th>Sentiment</th>\n",
       "    </tr>\n",
       "  </thead>\n",
       "  <tbody>\n",
       "    <tr>\n",
       "      <th>0</th>\n",
       "      <td>Candes 12 L Room/Personal Air Cooler??????(Whi...</td>\n",
       "      <td>3999</td>\n",
       "      <td>5</td>\n",
       "      <td>super!</td>\n",
       "      <td>great cooler excellent air flow and for this p...</td>\n",
       "      <td>positive</td>\n",
       "    </tr>\n",
       "    <tr>\n",
       "      <th>1</th>\n",
       "      <td>Candes 12 L Room/Personal Air Cooler??????(Whi...</td>\n",
       "      <td>3999</td>\n",
       "      <td>5</td>\n",
       "      <td>awesome</td>\n",
       "      <td>best budget 2 fit cooler nice cooling</td>\n",
       "      <td>positive</td>\n",
       "    </tr>\n",
       "    <tr>\n",
       "      <th>2</th>\n",
       "      <td>Candes 12 L Room/Personal Air Cooler??????(Whi...</td>\n",
       "      <td>3999</td>\n",
       "      <td>3</td>\n",
       "      <td>fair</td>\n",
       "      <td>the quality is good but the power of air is de...</td>\n",
       "      <td>positive</td>\n",
       "    </tr>\n",
       "    <tr>\n",
       "      <th>3</th>\n",
       "      <td>Candes 12 L Room/Personal Air Cooler??????(Whi...</td>\n",
       "      <td>3999</td>\n",
       "      <td>1</td>\n",
       "      <td>useless product</td>\n",
       "      <td>very bad product its a only a fan</td>\n",
       "      <td>negative</td>\n",
       "    </tr>\n",
       "    <tr>\n",
       "      <th>4</th>\n",
       "      <td>Candes 12 L Room/Personal Air Cooler??????(Whi...</td>\n",
       "      <td>3999</td>\n",
       "      <td>3</td>\n",
       "      <td>fair</td>\n",
       "      <td>ok ok product</td>\n",
       "      <td>neutral</td>\n",
       "    </tr>\n",
       "    <tr>\n",
       "      <th>5</th>\n",
       "      <td>Candes 12 L Room/Personal Air Cooler??????(Whi...</td>\n",
       "      <td>3999</td>\n",
       "      <td>5</td>\n",
       "      <td>awesome</td>\n",
       "      <td>the cooler is really fantastic and provides go...</td>\n",
       "      <td>positive</td>\n",
       "    </tr>\n",
       "    <tr>\n",
       "      <th>6</th>\n",
       "      <td>Candes 12 L Room/Personal Air Cooler??????(Whi...</td>\n",
       "      <td>3999</td>\n",
       "      <td>5</td>\n",
       "      <td>highly recommended</td>\n",
       "      <td>very good product</td>\n",
       "      <td>positive</td>\n",
       "    </tr>\n",
       "    <tr>\n",
       "      <th>7</th>\n",
       "      <td>Candes 12 L Room/Personal Air Cooler??????(Whi...</td>\n",
       "      <td>3999</td>\n",
       "      <td>3</td>\n",
       "      <td>nice</td>\n",
       "      <td>very nice</td>\n",
       "      <td>positive</td>\n",
       "    </tr>\n",
       "    <tr>\n",
       "      <th>8</th>\n",
       "      <td>Candes 12 L Room/Personal Air Cooler??????(Whi...</td>\n",
       "      <td>3999</td>\n",
       "      <td>1</td>\n",
       "      <td>unsatisfactory</td>\n",
       "      <td>very bad cooler</td>\n",
       "      <td>negative</td>\n",
       "    </tr>\n",
       "    <tr>\n",
       "      <th>9</th>\n",
       "      <td>Candes 12 L Room/Personal Air Cooler??????(Whi...</td>\n",
       "      <td>3999</td>\n",
       "      <td>4</td>\n",
       "      <td>worth the money</td>\n",
       "      <td>very good</td>\n",
       "      <td>positive</td>\n",
       "    </tr>\n",
       "  </tbody>\n",
       "</table>\n",
       "</div>"
      ],
      "text/plain": [
       "                                        product_name product_price Rate  \\\n",
       "0  Candes 12 L Room/Personal Air Cooler??????(Whi...          3999    5   \n",
       "1  Candes 12 L Room/Personal Air Cooler??????(Whi...          3999    5   \n",
       "2  Candes 12 L Room/Personal Air Cooler??????(Whi...          3999    3   \n",
       "3  Candes 12 L Room/Personal Air Cooler??????(Whi...          3999    1   \n",
       "4  Candes 12 L Room/Personal Air Cooler??????(Whi...          3999    3   \n",
       "5  Candes 12 L Room/Personal Air Cooler??????(Whi...          3999    5   \n",
       "6  Candes 12 L Room/Personal Air Cooler??????(Whi...          3999    5   \n",
       "7  Candes 12 L Room/Personal Air Cooler??????(Whi...          3999    3   \n",
       "8  Candes 12 L Room/Personal Air Cooler??????(Whi...          3999    1   \n",
       "9  Candes 12 L Room/Personal Air Cooler??????(Whi...          3999    4   \n",
       "\n",
       "               Review                                            Summary  \\\n",
       "0              super!  great cooler excellent air flow and for this p...   \n",
       "1             awesome              best budget 2 fit cooler nice cooling   \n",
       "2                fair  the quality is good but the power of air is de...   \n",
       "3     useless product                  very bad product its a only a fan   \n",
       "4                fair                                      ok ok product   \n",
       "5             awesome  the cooler is really fantastic and provides go...   \n",
       "6  highly recommended                                  very good product   \n",
       "7                nice                                          very nice   \n",
       "8      unsatisfactory                                    very bad cooler   \n",
       "9     worth the money                                          very good   \n",
       "\n",
       "  Sentiment  \n",
       "0  positive  \n",
       "1  positive  \n",
       "2  positive  \n",
       "3  negative  \n",
       "4   neutral  \n",
       "5  positive  \n",
       "6  positive  \n",
       "7  positive  \n",
       "8  negative  \n",
       "9  positive  "
      ]
     },
     "execution_count": 91,
     "metadata": {},
     "output_type": "execute_result"
    }
   ],
   "source": [
    "train_df = pd.read_csv(\"Dataset-SA.csv\")\n",
    "train_df2=train_df\n",
    "train_df.head(10)"
   ]
  },
  {
   "cell_type": "code",
   "execution_count": 93,
   "metadata": {
    "colab": {
     "base_uri": "https://localhost:8080/"
    },
    "id": "ga_fUG_L67dy",
    "outputId": "70bbfc95-2bed-422c-d4da-a27eefe94090"
   },
   "outputs": [
    {
     "data": {
      "text/plain": [
       "205052"
      ]
     },
     "execution_count": 93,
     "metadata": {},
     "output_type": "execute_result"
    }
   ],
   "source": [
    "len(train_df)"
   ]
  },
  {
   "cell_type": "code",
   "execution_count": 95,
   "metadata": {
    "colab": {
     "base_uri": "https://localhost:8080/",
     "height": 472
    },
    "id": "yaIkJs2jBkqA",
    "outputId": "585abcb8-57ef-4639-ffe4-f3c653909bef"
   },
   "outputs": [
    {
     "data": {
      "image/png": "[encoded data removed]",
      "text/plain": [
       "<Figure size 640x480 with 1 Axes>"
      ]
     },
     "metadata": {},
     "output_type": "display_data"
    }
   ],
   "source": [
    "# Check distribution of sentiments - positive and negative reviews\n",
    "sns.countplot(x=train_df['Sentiment'], data=train_df)\n",
    "plt.title('Analysis of Sentiments in Product Reviews as per the Flipkart Dataset')\n",
    "plt.ylabel(\"Count per Sentiment\")\n",
    "plt.xlabel(\"Sentiments of Reviews\")\n",
    "plt.savefig('sentiment.png')\n",
    "plt.show()\n"
   ]
  },
  {
   "cell_type": "code",
   "execution_count": 96,
   "metadata": {
    "colab": {
     "base_uri": "https://localhost:8080/",
     "height": 468
    },
    "id": "VkLdorBRCCqI",
    "outputId": "e9ed17f4-4cc1-4a20-94f6-e380da1b420d"
   },
   "outputs": [
    {
     "data": {
      "image/png": "[encoded data removed]",
      "text/plain": [
       "<Figure size 500x500 with 1 Axes>"
      ]
     },
     "metadata": {},
     "output_type": "display_data"
    }
   ],
   "source": [
    "# Check the distribution of all the features.\n",
    "# Here we have only one feature i.e. sentiment so plotting the different sentiments\n",
    "\n",
    "train_df['Sentiment'].hist(figsize=(5,5),bins = 5)\n",
    "plt.title(\"Features Distribution\")\n",
    "plt.show()"
   ]
  },
  {
   "cell_type": "code",
   "execution_count": 97,
   "metadata": {
    "colab": {
     "base_uri": "https://localhost:8080/"
    },
    "id": "YzS_N6iC7CkL",
    "outputId": "dfb60d21-9255-4a58-93b8-9d429ad7371a"
   },
   "outputs": [
    {
     "data": {
      "text/plain": [
       "0         great cooler excellent air flow and for this p...\n",
       "1                     best budget 2 fit cooler nice cooling\n",
       "2         the quality is good but the power of air is de...\n",
       "3                         very bad product its a only a fan\n",
       "4                                             ok ok product\n",
       "                                ...                        \n",
       "205047                                         good product\n",
       "205048                                                 nice\n",
       "205049                          very nice and fast delivery\n",
       "205050                                      awesome product\n",
       "205051    very good but mixing bowl not included is one ...\n",
       "Name: Summary, Length: 205052, dtype: object"
      ]
     },
     "execution_count": 97,
     "metadata": {},
     "output_type": "execute_result"
    }
   ],
   "source": [
    "train_df['Summary']"
   ]
  },
  {
   "cell_type": "code",
   "execution_count": 98,
   "metadata": {
    "colab": {
     "base_uri": "https://localhost:8080/",
     "height": 275
    },
    "id": "W6CwI-SH7o-e",
    "outputId": "f524ba2c-3243-41da-98d7-37cbf3a4a15b"
   },
   "outputs": [
    {
     "data": {
      "text/html": [
       "<div>\n",
       "<style scoped>\n",
       "    .dataframe tbody tr th:only-of-type {\n",
       "        vertical-align: middle;\n",
       "    }\n",
       "\n",
       "    .dataframe tbody tr th {\n",
       "        vertical-align: top;\n",
       "    }\n",
       "\n",
       "    .dataframe thead th {\n",
       "        text-align: right;\n",
       "    }\n",
       "</style>\n",
       "<table border=\"1\" class=\"dataframe\">\n",
       "  <thead>\n",
       "    <tr style=\"text-align: right;\">\n",
       "      <th></th>\n",
       "      <th>product_name</th>\n",
       "      <th>product_price</th>\n",
       "      <th>Rate</th>\n",
       "      <th>Review</th>\n",
       "      <th>Summary</th>\n",
       "      <th>Sentiment</th>\n",
       "    </tr>\n",
       "  </thead>\n",
       "  <tbody>\n",
       "    <tr>\n",
       "      <th>193551</th>\n",
       "      <td>BAJAJ 17 L Solo Microwave Oven1701MT White</td>\n",
       "      <td>4498</td>\n",
       "      <td>1</td>\n",
       "      <td>worst experience ever!</td>\n",
       "      <td>not working properly</td>\n",
       "      <td>neutral</td>\n",
       "    </tr>\n",
       "    <tr>\n",
       "      <th>149083</th>\n",
       "      <td>ScotchBrite Sponge WipeLarge Pack of 3</td>\n",
       "      <td>189</td>\n",
       "      <td>5</td>\n",
       "      <td>just wow!</td>\n",
       "      <td>very good</td>\n",
       "      <td>positive</td>\n",
       "    </tr>\n",
       "    <tr>\n",
       "      <th>194975</th>\n",
       "      <td>limraz furniture Engineered Wood Computer Desk...</td>\n",
       "      <td>1298</td>\n",
       "      <td>5</td>\n",
       "      <td>classy product</td>\n",
       "      <td>it is perfect if you want to work on the compu...</td>\n",
       "      <td>positive</td>\n",
       "    </tr>\n",
       "    <tr>\n",
       "      <th>29981</th>\n",
       "      <td>Lakm?? Eyeconic Kajal Twin Pack??????(Deep Bla...</td>\n",
       "      <td>218</td>\n",
       "      <td>5</td>\n",
       "      <td>simply awesome</td>\n",
       "      <td>thanks flipkart</td>\n",
       "      <td>positive</td>\n",
       "    </tr>\n",
       "    <tr>\n",
       "      <th>137259</th>\n",
       "      <td>KENT Aura Portable Room Air PurifierPink</td>\n",
       "      <td>6999</td>\n",
       "      <td>5</td>\n",
       "      <td>simply awesome</td>\n",
       "      <td>thanks product looks good not sure if any inst...</td>\n",
       "      <td>positive</td>\n",
       "    </tr>\n",
       "  </tbody>\n",
       "</table>\n",
       "</div>"
      ],
      "text/plain": [
       "                                             product_name product_price Rate  \\\n",
       "193551         BAJAJ 17 L Solo Microwave Oven1701MT White          4498    1   \n",
       "149083             ScotchBrite Sponge WipeLarge Pack of 3           189    5   \n",
       "194975  limraz furniture Engineered Wood Computer Desk...          1298    5   \n",
       "29981   Lakm?? Eyeconic Kajal Twin Pack??????(Deep Bla...           218    5   \n",
       "137259           KENT Aura Portable Room Air PurifierPink          6999    5   \n",
       "\n",
       "                        Review  \\\n",
       "193551  worst experience ever!   \n",
       "149083               just wow!   \n",
       "194975          classy product   \n",
       "29981           simply awesome   \n",
       "137259          simply awesome   \n",
       "\n",
       "                                                  Summary Sentiment  \n",
       "193551                               not working properly   neutral  \n",
       "149083                                          very good  positive  \n",
       "194975  it is perfect if you want to work on the compu...  positive  \n",
       "29981                                     thanks flipkart  positive  \n",
       "137259  thanks product looks good not sure if any inst...  positive  "
      ]
     },
     "execution_count": 98,
     "metadata": {},
     "output_type": "execute_result"
    }
   ],
   "source": [
    "# Shuffle training dataframe\n",
    "train_df_shuffled = train_df.sample(frac=1, random_state=42) # shuffle with random_state=42 for reproducibility\n",
    "train_df_shuffled.head()"
   ]
  },
  {
   "cell_type": "code",
   "execution_count": 99,
   "metadata": {
    "colab": {
     "base_uri": "https://localhost:8080/"
    },
    "id": "bh0hf6vW7seH",
    "outputId": "92b44ce9-5826-4074-f567-a892adfb6a9b"
   },
   "outputs": [
    {
     "data": {
      "text/plain": [
       "positive    166581\n",
       "negative     28232\n",
       "neutral      10239\n",
       "Name: Sentiment, dtype: int64"
      ]
     },
     "execution_count": 99,
     "metadata": {},
     "output_type": "execute_result"
    }
   ],
   "source": [
    "# How many examples of each class?\n",
    "train_df.Sentiment.value_counts()"
   ]
  },
  {
   "cell_type": "code",
   "execution_count": 100,
   "metadata": {
    "colab": {
     "base_uri": "https://localhost:8080/",
     "height": 527
    },
    "id": "lsd4OOE47u-7",
    "outputId": "91b0a94c-b2cb-4a7e-d46d-d1c67713ff36"
   },
   "outputs": [
    {
     "data": {
      "text/html": [
       "<div>\n",
       "<style scoped>\n",
       "    .dataframe tbody tr th:only-of-type {\n",
       "        vertical-align: middle;\n",
       "    }\n",
       "\n",
       "    .dataframe tbody tr th {\n",
       "        vertical-align: top;\n",
       "    }\n",
       "\n",
       "    .dataframe thead th {\n",
       "        text-align: right;\n",
       "    }\n",
       "</style>\n",
       "<table border=\"1\" class=\"dataframe\">\n",
       "  <thead>\n",
       "    <tr style=\"text-align: right;\">\n",
       "      <th></th>\n",
       "      <th>product_name</th>\n",
       "      <th>product_price</th>\n",
       "      <th>Rate</th>\n",
       "      <th>Review</th>\n",
       "      <th>Summary</th>\n",
       "      <th>Sentiment</th>\n",
       "    </tr>\n",
       "  </thead>\n",
       "  <tbody>\n",
       "    <tr>\n",
       "      <th>0</th>\n",
       "      <td>Candes 12 L Room/Personal Air Cooler??????(Whi...</td>\n",
       "      <td>3999</td>\n",
       "      <td>5</td>\n",
       "      <td>super!</td>\n",
       "      <td>great cooler excellent air flow and for this p...</td>\n",
       "      <td>positive</td>\n",
       "    </tr>\n",
       "    <tr>\n",
       "      <th>1</th>\n",
       "      <td>Candes 12 L Room/Personal Air Cooler??????(Whi...</td>\n",
       "      <td>3999</td>\n",
       "      <td>5</td>\n",
       "      <td>awesome</td>\n",
       "      <td>best budget 2 fit cooler nice cooling</td>\n",
       "      <td>positive</td>\n",
       "    </tr>\n",
       "    <tr>\n",
       "      <th>2</th>\n",
       "      <td>Candes 12 L Room/Personal Air Cooler??????(Whi...</td>\n",
       "      <td>3999</td>\n",
       "      <td>3</td>\n",
       "      <td>fair</td>\n",
       "      <td>the quality is good but the power of air is de...</td>\n",
       "      <td>positive</td>\n",
       "    </tr>\n",
       "    <tr>\n",
       "      <th>3</th>\n",
       "      <td>Candes 12 L Room/Personal Air Cooler??????(Whi...</td>\n",
       "      <td>3999</td>\n",
       "      <td>1</td>\n",
       "      <td>useless product</td>\n",
       "      <td>very bad product its a only a fan</td>\n",
       "      <td>negative</td>\n",
       "    </tr>\n",
       "    <tr>\n",
       "      <th>4</th>\n",
       "      <td>Candes 12 L Room/Personal Air Cooler??????(Whi...</td>\n",
       "      <td>3999</td>\n",
       "      <td>3</td>\n",
       "      <td>fair</td>\n",
       "      <td>ok ok product</td>\n",
       "      <td>neutral</td>\n",
       "    </tr>\n",
       "    <tr>\n",
       "      <th>...</th>\n",
       "      <td>...</td>\n",
       "      <td>...</td>\n",
       "      <td>...</td>\n",
       "      <td>...</td>\n",
       "      <td>...</td>\n",
       "      <td>...</td>\n",
       "    </tr>\n",
       "    <tr>\n",
       "      <th>205047</th>\n",
       "      <td>cello Pack of 18 Opalware Cello Dazzle Lush Fi...</td>\n",
       "      <td>1299</td>\n",
       "      <td>5</td>\n",
       "      <td>must buy!</td>\n",
       "      <td>good product</td>\n",
       "      <td>positive</td>\n",
       "    </tr>\n",
       "    <tr>\n",
       "      <th>205048</th>\n",
       "      <td>cello Pack of 18 Opalware Cello Dazzle Lush Fi...</td>\n",
       "      <td>1299</td>\n",
       "      <td>5</td>\n",
       "      <td>super!</td>\n",
       "      <td>nice</td>\n",
       "      <td>positive</td>\n",
       "    </tr>\n",
       "    <tr>\n",
       "      <th>205049</th>\n",
       "      <td>cello Pack of 18 Opalware Cello Dazzle Lush Fi...</td>\n",
       "      <td>1299</td>\n",
       "      <td>3</td>\n",
       "      <td>nice</td>\n",
       "      <td>very nice and fast delivery</td>\n",
       "      <td>positive</td>\n",
       "    </tr>\n",
       "    <tr>\n",
       "      <th>205050</th>\n",
       "      <td>cello Pack of 18 Opalware Cello Dazzle Lush Fi...</td>\n",
       "      <td>1299</td>\n",
       "      <td>5</td>\n",
       "      <td>just wow!</td>\n",
       "      <td>awesome product</td>\n",
       "      <td>positive</td>\n",
       "    </tr>\n",
       "    <tr>\n",
       "      <th>205051</th>\n",
       "      <td>cello Pack of 18 Opalware Cello Dazzle Lush Fi...</td>\n",
       "      <td>1299</td>\n",
       "      <td>4</td>\n",
       "      <td>value-for-money</td>\n",
       "      <td>very good but mixing bowl not included is one ...</td>\n",
       "      <td>neutral</td>\n",
       "    </tr>\n",
       "  </tbody>\n",
       "</table>\n",
       "<p>205052 rows × 6 columns</p>\n",
       "</div>"
      ],
      "text/plain": [
       "                                             product_name product_price Rate  \\\n",
       "0       Candes 12 L Room/Personal Air Cooler??????(Whi...          3999    5   \n",
       "1       Candes 12 L Room/Personal Air Cooler??????(Whi...          3999    5   \n",
       "2       Candes 12 L Room/Personal Air Cooler??????(Whi...          3999    3   \n",
       "3       Candes 12 L Room/Personal Air Cooler??????(Whi...          3999    1   \n",
       "4       Candes 12 L Room/Personal Air Cooler??????(Whi...          3999    3   \n",
       "...                                                   ...           ...  ...   \n",
       "205047  cello Pack of 18 Opalware Cello Dazzle Lush Fi...          1299    5   \n",
       "205048  cello Pack of 18 Opalware Cello Dazzle Lush Fi...          1299    5   \n",
       "205049  cello Pack of 18 Opalware Cello Dazzle Lush Fi...          1299    3   \n",
       "205050  cello Pack of 18 Opalware Cello Dazzle Lush Fi...          1299    5   \n",
       "205051  cello Pack of 18 Opalware Cello Dazzle Lush Fi...          1299    4   \n",
       "\n",
       "                 Review                                            Summary  \\\n",
       "0                super!  great cooler excellent air flow and for this p...   \n",
       "1               awesome              best budget 2 fit cooler nice cooling   \n",
       "2                  fair  the quality is good but the power of air is de...   \n",
       "3       useless product                  very bad product its a only a fan   \n",
       "4                  fair                                      ok ok product   \n",
       "...                 ...                                                ...   \n",
       "205047        must buy!                                       good product   \n",
       "205048           super!                                               nice   \n",
       "205049             nice                        very nice and fast delivery   \n",
       "205050        just wow!                                    awesome product   \n",
       "205051  value-for-money  very good but mixing bowl not included is one ...   \n",
       "\n",
       "       Sentiment  \n",
       "0       positive  \n",
       "1       positive  \n",
       "2       positive  \n",
       "3       negative  \n",
       "4        neutral  \n",
       "...          ...  \n",
       "205047  positive  \n",
       "205048  positive  \n",
       "205049  positive  \n",
       "205050  positive  \n",
       "205051   neutral  \n",
       "\n",
       "[205052 rows x 6 columns]"
      ]
     },
     "execution_count": 100,
     "metadata": {},
     "output_type": "execute_result"
    }
   ],
   "source": [
    "train_df['Summary'] = train_df['Summary'].astype(str)\n",
    "train_df"
   ]
  },
  {
   "cell_type": "code",
   "execution_count": 101,
   "metadata": {
    "colab": {
     "base_uri": "https://localhost:8080/"
    },
    "id": "gVlVunJB8EFo",
    "outputId": "b2fc84b4-3183-4b7b-a5a7-605c153908fb"
   },
   "outputs": [
    {
     "name": "stderr",
     "output_type": "stream",
     "text": [
      "[nltk_data] Downloading package stopwords to\n",
      "[nltk_data]     C:\\Users\\Jigisha\\AppData\\Roaming\\nltk_data...\n",
      "[nltk_data]   Package stopwords is already up-to-date!\n",
      "[nltk_data] Downloading package wordnet to\n",
      "[nltk_data]     C:\\Users\\Jigisha\\AppData\\Roaming\\nltk_data...\n",
      "[nltk_data]   Package wordnet is already up-to-date!\n",
      "[nltk_data] Downloading package punkt to\n",
      "[nltk_data]     C:\\Users\\Jigisha\\AppData\\Roaming\\nltk_data...\n",
      "[nltk_data]   Package punkt is already up-to-date!\n",
      "[nltk_data] Downloading package words to\n",
      "[nltk_data]     C:\\Users\\Jigisha\\AppData\\Roaming\\nltk_data...\n",
      "[nltk_data]   Package words is already up-to-date!\n",
      "[nltk_data] Downloading package averaged_perceptron_tagger to\n",
      "[nltk_data]     C:\\Users\\Jigisha\\AppData\\Roaming\\nltk_data...\n",
      "[nltk_data]   Package averaged_perceptron_tagger is already up-to-\n",
      "[nltk_data]       date!\n"
     ]
    }
   ],
   "source": [
    "'''\n",
    "Preprocessing Pipeline to remove html tags, special characters, stopwords\n",
    "'''\n",
    "import re\n",
    "import nltk\n",
    "nltk.download('stopwords')\n",
    "\n",
    "nltk.download('wordnet')\n",
    "nltk.download('punkt')\n",
    "nltk.download('words')\n",
    "nltk.download('averaged_perceptron_tagger')\n",
    "from nltk.corpus import wordnet, stopwords\n",
    "import string\n",
    "stopwords_list = stopwords.words('english')\n",
    "from nltk.stem import LancasterStemmer, WordNetLemmatizer\n",
    "\n",
    "from bs4 import BeautifulSoup\n",
    "#Removing the html strips\n",
    "def strip_html(text):\n",
    "    soup = BeautifulSoup(text, \"html.parser\")\n",
    "    return soup.get_text()\n",
    "\n",
    "#Removing the square brackets\n",
    "def remove_between_square_brackets(text):\n",
    "    return re.sub('\\[[^]]*\\]', '', text)\n",
    "\n",
    "#Removing the noisy text\n",
    "def denoise_text(text):\n",
    "    text = strip_html(text)\n",
    "    text = remove_between_square_brackets(text)\n",
    "\n",
    "    return text\n",
    "\n",
    "\n",
    "#Define function for removing special characters\n",
    "def remove_special_characters(text):\n",
    "    pattern=r'[^a-zA-z0-9\\s]'\n",
    "    text=re.sub(pattern,'',text)\n",
    "    return text\n",
    "\n",
    "#Stemming the text\n",
    "def simple_stemmer(sentence):\n",
    "    ps=nltk.porter.PorterStemmer()\n",
    "    sentence_words = nltk.word_tokenize(sentence)\n",
    "    filtered_tokens= [ps.stem(word) for word in sentence_words]\n",
    "    filtered_text= ' '.join(filtered_tokens)\n",
    "    return filtered_text\n",
    "\n",
    "# remove stop-words and punctuations\n",
    "def remove_stopwords(sentence):\n",
    "    stop_words = set(stopwords.words('english'))\n",
    "    sentence = sentence.lower()\n",
    "    tokens = sentence.split()\n",
    "    filtered_tokens = [token.strip(string.punctuation) for token in tokens if token.lower() not in stop_words]\n",
    "    filtered_text = ' '.join(filtered_tokens)\n",
    "    return filtered_text\n",
    "\n",
    "# Lemmetize the text\n",
    "def word_lemmetize(sentence):\n",
    "    wordnet_lemmatizer = WordNetLemmatizer()\n",
    "    sentence_words = nltk.word_tokenize(sentence)\n",
    "\n",
    "    filtered_tokens = [wordnet_lemmatizer.lemmatize(word, pos=\"v\") for word in sentence_words]\n",
    "    filtered_text = ' '.join(filtered_tokens)\n",
    "    return filtered_text"
   ]
  },
  {
   "cell_type": "code",
   "execution_count": 102,
   "metadata": {
    "colab": {
     "base_uri": "https://localhost:8080/"
    },
    "id": "9UQKt2uj8M_U",
    "outputId": "5237a8ae-dd43-40ee-d1ce-109435777990"
   },
   "outputs": [
    {
     "data": {
      "text/plain": [
       "0         great cooler excellent air flow and for this p...\n",
       "1                     best budget 2 fit cooler nice cooling\n",
       "2         the quality is good but the power of air is de...\n",
       "3                         very bad product its a only a fan\n",
       "4                                             ok ok product\n",
       "                                ...                        \n",
       "205047                                         good product\n",
       "205048                                                 nice\n",
       "205049                          very nice and fast delivery\n",
       "205050                                      awesome product\n",
       "205051    very good but mixing bowl not included is one ...\n",
       "Name: Summary, Length: 205052, dtype: object"
      ]
     },
     "execution_count": 102,
     "metadata": {},
     "output_type": "execute_result"
    }
   ],
   "source": [
    "train_df['Summary']=train_df['Summary'].apply(remove_between_square_brackets)\n",
    "train_df['Summary']"
   ]
  },
  {
   "cell_type": "code",
   "execution_count": 103,
   "metadata": {
    "colab": {
     "base_uri": "https://localhost:8080/"
    },
    "id": "PjcT60RAAfbw",
    "outputId": "b8764cd8-4503-4454-a8e8-5543b837b429"
   },
   "outputs": [
    {
     "data": {
      "text/plain": [
       "0         great cooler excellent air flow and for this p...\n",
       "1                     best budget 2 fit cooler nice cooling\n",
       "2         the quality is good but the power of air is de...\n",
       "3                         very bad product its a only a fan\n",
       "4                                             ok ok product\n",
       "                                ...                        \n",
       "205047                                         good product\n",
       "205048                                                 nice\n",
       "205049                          very nice and fast delivery\n",
       "205050                                      awesome product\n",
       "205051    very good but mixing bowl not included is one ...\n",
       "Name: Summary, Length: 205052, dtype: object"
      ]
     },
     "execution_count": 103,
     "metadata": {},
     "output_type": "execute_result"
    }
   ],
   "source": [
    "train_df['Summary']=train_df['Summary'].apply(denoise_text)\n",
    "train_df['Summary']"
   ]
  },
  {
   "cell_type": "code",
   "execution_count": 104,
   "metadata": {
    "colab": {
     "base_uri": "https://localhost:8080/"
    },
    "id": "wBnC9fPYAmv1",
    "outputId": "5aa063cf-4668-4eed-d0fd-fb5b53ea0bdf"
   },
   "outputs": [
    {
     "data": {
      "text/plain": [
       "0         great cooler excellent air flow and for this p...\n",
       "1                     best budget 2 fit cooler nice cooling\n",
       "2         the quality is good but the power of air is de...\n",
       "3                         very bad product its a only a fan\n",
       "4                                             ok ok product\n",
       "                                ...                        \n",
       "205047                                         good product\n",
       "205048                                                 nice\n",
       "205049                          very nice and fast delivery\n",
       "205050                                      awesome product\n",
       "205051    very good but mixing bowl not included is one ...\n",
       "Name: Summary, Length: 205052, dtype: object"
      ]
     },
     "execution_count": 104,
     "metadata": {},
     "output_type": "execute_result"
    }
   ],
   "source": [
    "train_df['Summary']=train_df['Summary'].apply(remove_special_characters)\n",
    "train_df['Summary']"
   ]
  },
  {
   "cell_type": "code",
   "execution_count": 105,
   "metadata": {
    "colab": {
     "base_uri": "https://localhost:8080/"
    },
    "id": "nQVfQXgVBLET",
    "outputId": "a4d0e6a0-0515-4db1-edd5-614c25fd8fd3"
   },
   "outputs": [
    {
     "data": {
      "text/plain": [
       "0         great cooler excel air flow and for thi price ...\n",
       "1                        best budget 2 fit cooler nice cool\n",
       "2         the qualiti is good but the power of air is de...\n",
       "3                          veri bad product it a onli a fan\n",
       "4                                             ok ok product\n",
       "                                ...                        \n",
       "205047                                         good product\n",
       "205048                                                 nice\n",
       "205049                          veri nice and fast deliveri\n",
       "205050                                       awesom product\n",
       "205051    veri good but mix bowl not includ is one disap...\n",
       "Name: Summary, Length: 205052, dtype: object"
      ]
     },
     "execution_count": 105,
     "metadata": {},
     "output_type": "execute_result"
    }
   ],
   "source": [
    "train_df['Summary']=train_df['Summary'].apply(simple_stemmer)\n",
    "train_df['Summary']"
   ]
  },
  {
   "cell_type": "code",
   "execution_count": 106,
   "metadata": {
    "colab": {
     "base_uri": "https://localhost:8080/"
    },
    "id": "sebWGG_G8Vgm",
    "outputId": "e3a46acb-de22-4525-e83c-7e3f7f61ef41"
   },
   "outputs": [
    {
     "data": {
      "text/plain": [
       "0         great cooler excel air flow thi price amaz unb...\n",
       "1                        best budget 2 fit cooler nice cool\n",
       "2                             qualiti good power air decent\n",
       "3                                 veri bad product onli fan\n",
       "4                                             ok ok product\n",
       "                                ...                        \n",
       "205047                                         good product\n",
       "205048                                                 nice\n",
       "205049                              veri nice fast deliveri\n",
       "205050                                       awesom product\n",
       "205051    veri good mix bowl includ one disappointmentan...\n",
       "Name: Summary, Length: 205052, dtype: object"
      ]
     },
     "execution_count": 106,
     "metadata": {},
     "output_type": "execute_result"
    }
   ],
   "source": [
    "train_df['Summary']=train_df['Summary'].apply(remove_stopwords)\n",
    "train_df['Summary']"
   ]
  },
  {
   "cell_type": "code",
   "execution_count": 107,
   "metadata": {
    "colab": {
     "base_uri": "https://localhost:8080/"
    },
    "id": "bZ1yRnq28SU4",
    "outputId": "c54cc9a9-50ea-41ae-81ca-6b85eef8bbad"
   },
   "outputs": [
    {
     "data": {
      "text/plain": [
       "0     great cooler excel air flow thi price amaz unb...\n",
       "1                    best budget 2 fit cooler nice cool\n",
       "2                         qualiti good power air decent\n",
       "3                             veri bad product onli fan\n",
       "4                                         ok ok product\n",
       "5     cooler realli fantast provid good air flow hig...\n",
       "6                                     veri good product\n",
       "7                                             veri nice\n",
       "8                                       veri bad cooler\n",
       "9                                             veri good\n",
       "10            beauti product good materi perfectli work\n",
       "11                                               awesom\n",
       "12                                                 good\n",
       "13                              wonder product must buy\n",
       "14              nice air cooler smart cool breez produc\n",
       "15                                                 awsm\n",
       "16                                         nice product\n",
       "17                                         great cooler\n",
       "18                                         nice product\n",
       "19                                                 good\n",
       "20                                    veri nice product\n",
       "21                                         good product\n",
       "22                            nice product reason price\n",
       "23                                                 like\n",
       "24                                           veri goodd\n",
       "25                                         good product\n",
       "26                                good product kawaleti\n",
       "27     veri good cooler amaz beauti design afford price\n",
       "28                         use sinc 3month great experi\n",
       "29                          veri good perform nice look\n",
       "30         product good strong thrust air flow must buy\n",
       "31                                            veri good\n",
       "32                                          bad qualiti\n",
       "33                                    veri nice product\n",
       "34             veri soundless product low price compani\n",
       "35                                                 nice\n",
       "36    best poduct buy flifkart work superb like ac p...\n",
       "37    cooler big wide maharaja brand trust everi thi...\n",
       "38    one best air cooler reason price ever see vent...\n",
       "39    awesom air cooleri wa look cooler thi ring thi...\n",
       "40    purchas lot discuss review would say thi best ...\n",
       "41    veri nice cooler cool veri good nois review lo...\n",
       "42    feedback give use one week cooler amaz make wh...\n",
       "43    great deal 65 l quit big tank suffici cool one...\n",
       "44    buy thi cooler heavi discount flipkart cooler ...\n",
       "45    good things1 veri well pack good amount thermo...\n",
       "46        excel producthappi resultnic air flowosm cool\n",
       "47                     cooler work fine invert friendli\n",
       "48    small wire moter capac veri low fan speed wa g...\n",
       "49                       perfect product larg size room\n",
       "Name: Summary, dtype: object"
      ]
     },
     "execution_count": 107,
     "metadata": {},
     "output_type": "execute_result"
    }
   ],
   "source": [
    "train_df['Summary']=train_df['Summary'].apply(word_lemmetize)\n",
    "train_df.Summary.head(50)"
   ]
  },
  {
   "cell_type": "code",
   "execution_count": 108,
   "metadata": {
    "id": "fkGSOh7dCumd"
   },
   "outputs": [],
   "source": [
    "from sklearn.svm import SVC\n",
    "from sklearn.model_selection import train_test_split\n",
    "from sklearn.feature_extraction.text import TfidfVectorizer\n",
    "from sklearn.metrics import confusion_matrix, classification_report"
   ]
  },
  {
   "cell_type": "code",
   "execution_count": 109,
   "metadata": {
    "id": "SxKrCWbC_0M3"
   },
   "outputs": [],
   "source": [
    "# Segmentation of dataset into 80% training and 20% test set\n",
    "train,test = train_test_split(train_df2,test_size =0.2,random_state=42)\n",
    "train_x, train_y = train['Review'], train['Sentiment']\n",
    "test_x, test_y = test['Review'], test['Sentiment']"
   ]
  },
  {
   "cell_type": "markdown",
   "metadata": {
    "id": "Wm4K50kCC2rS"
   },
   "source": [
    "Transformed the text to numeric vectors which the machine can understand using bag of words (BOW) using in the form of Term frequency -Inverse Document Frequency (TF-IDF)."
   ]
  },
  {
   "cell_type": "code",
   "execution_count": 110,
   "metadata": {
    "id": "xiybJNMjDd0s"
   },
   "outputs": [],
   "source": [
    "#transformation of the data into numeric vectors using TF-IDF\n",
    "tfidf = TfidfVectorizer(stop_words='english')\n",
    "# Fit the model based on training data train_x\n",
    "train_x_vector = tfidf.fit_transform(train_x.values.astype('U'))\n",
    "\n",
    "\n",
    "# also fit the test_x_vector\n",
    "test_x_vector = tfidf.transform(test_x.values.astype('U'))"
   ]
  },
  {
   "cell_type": "code",
   "execution_count": 111,
   "metadata": {
    "colab": {
     "base_uri": "https://localhost:8080/"
    },
    "id": "U71XyOGTDg8t",
    "outputId": "15cfc09c-9a00-4100-f218-292873c7b87e"
   },
   "outputs": [
    {
     "name": "stdout",
     "output_type": "stream",
     "text": [
      "{'wonderful': 986, 'slightly': 832, 'disappointed': 279, 'mind': 588, 'blowing': 122, 'purchase': 718, 'nice': 620, 'product': 709, 'fabulous': 345, 'worth': 995, 'money': 602, 'useless': 944, 'expected': 337, 'better': 112, 'terrible': 899, 'just': 508, 'wow': 999, 'value': 952, 'specified': 855, 'great': 412, 'recommended': 744, 'awesome': 83, 'perfect': 668, 'penny': 664, 'nan': 610, 'really': 738, 'okay': 633, 'decent': 247, 'brilliant': 133, 'super': 880, 'poor': 689, 'highly': 451, 'best': 111, 'market': 565, 'fair': 349, 'classy': 187, 'way': 972, 'good': 406, 'does': 289, 'job': 505, 'terrific': 900, 'hated': 435, 'simply': 822, 'worthless': 997, 'worst': 994, 'experience': 340, 'buy': 149, 'quality': 725, 'delightful': 255, 'choice': 179, 'horrible': 456, 'did': 272, 'meet': 578, 'expectations': 336, 'excellent': 331, 'unsatisfactory': 932, 'utterly': 949, 'pretty': 696, 'star': 859, 'bad': 92, 'absolute': 39, 'rubbish': 777, 'moderate': 600, 'hard': 432, 'ball': 98, 'simple': 821, 'complex': 204, 'waste': 968, 'philips': 678, 'hr': 463, '1832': 12, 'don': 293, 'expections': 338, 'stars': 860, 'diy': 287, 'discretion': 282, 'using': 947, 'months': 606, 'item': 501, 'useful': 942, 'received': 741, 'broken': 138, 'plate': 683, 'bowl': 128, 'optimal': 639, 'small': 834, 'family': 351, 'materials': 572, 'biggest': 116, 'mistake': 595, 'life': 533, 'quick': 727, 'delivery': 259, 'seller': 797, 'genuine': 400, 'ink': 480, 'high': 450, 'speed': 856, 'internet': 491, 'connection': 210, 'fast': 356, 'shipping': 813, 'camera': 153, 'price': 697, 'range': 730, 'brand': 131, 'reasonable': 739, 'mid': 587, 'beast': 106, 'ryzen': 779, 'i5': 467, 'superb': 881, 'priced': 698, 'kind': 516, 'stuff': 874, 'offered': 630, 'class': 186, 'sturdy': 875, 'room': 769, 'decoration': 249, 'dry': 300, 'iron': 497, 'hostel': 458, 'pg': 676, 'students': 872, 'parents': 661, 'loving': 552, 'juicer': 507, 'descent': 261, 'quite': 728, 'speakers': 851, 'design': 266, 'lakme': 520, 'kajal'\n"
     ]
    }
   ],
   "source": [
    "#features = tfidf.get_feature_names_out()\n",
    "print(str(tfidf.vocabulary_)[:2000])"
   ]
  },
  {
   "cell_type": "code",
   "execution_count": 112,
   "metadata": {},
   "outputs": [],
   "source": [
    "#train_x_vector"
   ]
  },
  {
   "cell_type": "code",
   "execution_count": 113,
   "metadata": {},
   "outputs": [
    {
     "data": {
      "text/html": [
       "<div>\n",
       "<style scoped>\n",
       "    .dataframe tbody tr th:only-of-type {\n",
       "        vertical-align: middle;\n",
       "    }\n",
       "\n",
       "    .dataframe tbody tr th {\n",
       "        vertical-align: top;\n",
       "    }\n",
       "\n",
       "    .dataframe thead th {\n",
       "        text-align: right;\n",
       "    }\n",
       "</style>\n",
       "<table border=\"1\" class=\"dataframe\">\n",
       "  <thead>\n",
       "    <tr style=\"text-align: right;\">\n",
       "      <th></th>\n",
       "      <th>10</th>\n",
       "      <th>100</th>\n",
       "      <th>10k</th>\n",
       "      <th>10mins</th>\n",
       "      <th>11</th>\n",
       "      <th>11th</th>\n",
       "      <th>150</th>\n",
       "      <th>1599</th>\n",
       "      <th>15k</th>\n",
       "      <th>17</th>\n",
       "      <th>...</th>\n",
       "      <th>writing</th>\n",
       "      <th>wrong</th>\n",
       "      <th>xiaomi</th>\n",
       "      <th>yaar</th>\n",
       "      <th>year</th>\n",
       "      <th>years</th>\n",
       "      <th>yes</th>\n",
       "      <th>yield</th>\n",
       "      <th>yr</th>\n",
       "      <th>zero</th>\n",
       "    </tr>\n",
       "  </thead>\n",
       "  <tbody>\n",
       "    <tr>\n",
       "      <th>165013</th>\n",
       "      <td>0.0</td>\n",
       "      <td>0.0</td>\n",
       "      <td>0.0</td>\n",
       "      <td>0.0</td>\n",
       "      <td>0.0</td>\n",
       "      <td>0.0</td>\n",
       "      <td>0.0</td>\n",
       "      <td>0.0</td>\n",
       "      <td>0.0</td>\n",
       "      <td>0.0</td>\n",
       "      <td>...</td>\n",
       "      <td>0.0</td>\n",
       "      <td>0.0</td>\n",
       "      <td>0.0</td>\n",
       "      <td>0.0</td>\n",
       "      <td>0.0</td>\n",
       "      <td>0.0</td>\n",
       "      <td>0.0</td>\n",
       "      <td>0.0</td>\n",
       "      <td>0.0</td>\n",
       "      <td>0.0</td>\n",
       "    </tr>\n",
       "    <tr>\n",
       "      <th>82939</th>\n",
       "      <td>0.0</td>\n",
       "      <td>0.0</td>\n",
       "      <td>0.0</td>\n",
       "      <td>0.0</td>\n",
       "      <td>0.0</td>\n",
       "      <td>0.0</td>\n",
       "      <td>0.0</td>\n",
       "      <td>0.0</td>\n",
       "      <td>0.0</td>\n",
       "      <td>0.0</td>\n",
       "      <td>...</td>\n",
       "      <td>0.0</td>\n",
       "      <td>0.0</td>\n",
       "      <td>0.0</td>\n",
       "      <td>0.0</td>\n",
       "      <td>0.0</td>\n",
       "      <td>0.0</td>\n",
       "      <td>0.0</td>\n",
       "      <td>0.0</td>\n",
       "      <td>0.0</td>\n",
       "      <td>0.0</td>\n",
       "    </tr>\n",
       "    <tr>\n",
       "      <th>26246</th>\n",
       "      <td>0.0</td>\n",
       "      <td>0.0</td>\n",
       "      <td>0.0</td>\n",
       "      <td>0.0</td>\n",
       "      <td>0.0</td>\n",
       "      <td>0.0</td>\n",
       "      <td>0.0</td>\n",
       "      <td>0.0</td>\n",
       "      <td>0.0</td>\n",
       "      <td>0.0</td>\n",
       "      <td>...</td>\n",
       "      <td>0.0</td>\n",
       "      <td>0.0</td>\n",
       "      <td>0.0</td>\n",
       "      <td>0.0</td>\n",
       "      <td>0.0</td>\n",
       "      <td>0.0</td>\n",
       "      <td>0.0</td>\n",
       "      <td>0.0</td>\n",
       "      <td>0.0</td>\n",
       "      <td>0.0</td>\n",
       "    </tr>\n",
       "    <tr>\n",
       "      <th>94043</th>\n",
       "      <td>0.0</td>\n",
       "      <td>0.0</td>\n",
       "      <td>0.0</td>\n",
       "      <td>0.0</td>\n",
       "      <td>0.0</td>\n",
       "      <td>0.0</td>\n",
       "      <td>0.0</td>\n",
       "      <td>0.0</td>\n",
       "      <td>0.0</td>\n",
       "      <td>0.0</td>\n",
       "      <td>...</td>\n",
       "      <td>0.0</td>\n",
       "      <td>0.0</td>\n",
       "      <td>0.0</td>\n",
       "      <td>0.0</td>\n",
       "      <td>0.0</td>\n",
       "      <td>0.0</td>\n",
       "      <td>0.0</td>\n",
       "      <td>0.0</td>\n",
       "      <td>0.0</td>\n",
       "      <td>0.0</td>\n",
       "    </tr>\n",
       "    <tr>\n",
       "      <th>69954</th>\n",
       "      <td>0.0</td>\n",
       "      <td>0.0</td>\n",
       "      <td>0.0</td>\n",
       "      <td>0.0</td>\n",
       "      <td>0.0</td>\n",
       "      <td>0.0</td>\n",
       "      <td>0.0</td>\n",
       "      <td>0.0</td>\n",
       "      <td>0.0</td>\n",
       "      <td>0.0</td>\n",
       "      <td>...</td>\n",
       "      <td>0.0</td>\n",
       "      <td>0.0</td>\n",
       "      <td>0.0</td>\n",
       "      <td>0.0</td>\n",
       "      <td>0.0</td>\n",
       "      <td>0.0</td>\n",
       "      <td>0.0</td>\n",
       "      <td>0.0</td>\n",
       "      <td>0.0</td>\n",
       "      <td>0.0</td>\n",
       "    </tr>\n",
       "    <tr>\n",
       "      <th>...</th>\n",
       "      <td>...</td>\n",
       "      <td>...</td>\n",
       "      <td>...</td>\n",
       "      <td>...</td>\n",
       "      <td>...</td>\n",
       "      <td>...</td>\n",
       "      <td>...</td>\n",
       "      <td>...</td>\n",
       "      <td>...</td>\n",
       "      <td>...</td>\n",
       "      <td>...</td>\n",
       "      <td>...</td>\n",
       "      <td>...</td>\n",
       "      <td>...</td>\n",
       "      <td>...</td>\n",
       "      <td>...</td>\n",
       "      <td>...</td>\n",
       "      <td>...</td>\n",
       "      <td>...</td>\n",
       "      <td>...</td>\n",
       "      <td>...</td>\n",
       "    </tr>\n",
       "    <tr>\n",
       "      <th>119879</th>\n",
       "      <td>0.0</td>\n",
       "      <td>0.0</td>\n",
       "      <td>0.0</td>\n",
       "      <td>0.0</td>\n",
       "      <td>0.0</td>\n",
       "      <td>0.0</td>\n",
       "      <td>0.0</td>\n",
       "      <td>0.0</td>\n",
       "      <td>0.0</td>\n",
       "      <td>0.0</td>\n",
       "      <td>...</td>\n",
       "      <td>0.0</td>\n",
       "      <td>0.0</td>\n",
       "      <td>0.0</td>\n",
       "      <td>0.0</td>\n",
       "      <td>0.0</td>\n",
       "      <td>0.0</td>\n",
       "      <td>0.0</td>\n",
       "      <td>0.0</td>\n",
       "      <td>0.0</td>\n",
       "      <td>0.0</td>\n",
       "    </tr>\n",
       "    <tr>\n",
       "      <th>103694</th>\n",
       "      <td>0.0</td>\n",
       "      <td>0.0</td>\n",
       "      <td>0.0</td>\n",
       "      <td>0.0</td>\n",
       "      <td>0.0</td>\n",
       "      <td>0.0</td>\n",
       "      <td>0.0</td>\n",
       "      <td>0.0</td>\n",
       "      <td>0.0</td>\n",
       "      <td>0.0</td>\n",
       "      <td>...</td>\n",
       "      <td>0.0</td>\n",
       "      <td>0.0</td>\n",
       "      <td>0.0</td>\n",
       "      <td>0.0</td>\n",
       "      <td>0.0</td>\n",
       "      <td>0.0</td>\n",
       "      <td>0.0</td>\n",
       "      <td>0.0</td>\n",
       "      <td>0.0</td>\n",
       "      <td>0.0</td>\n",
       "    </tr>\n",
       "    <tr>\n",
       "      <th>131932</th>\n",
       "      <td>0.0</td>\n",
       "      <td>0.0</td>\n",
       "      <td>0.0</td>\n",
       "      <td>0.0</td>\n",
       "      <td>0.0</td>\n",
       "      <td>0.0</td>\n",
       "      <td>0.0</td>\n",
       "      <td>0.0</td>\n",
       "      <td>0.0</td>\n",
       "      <td>0.0</td>\n",
       "      <td>...</td>\n",
       "      <td>0.0</td>\n",
       "      <td>0.0</td>\n",
       "      <td>0.0</td>\n",
       "      <td>0.0</td>\n",
       "      <td>0.0</td>\n",
       "      <td>0.0</td>\n",
       "      <td>0.0</td>\n",
       "      <td>0.0</td>\n",
       "      <td>0.0</td>\n",
       "      <td>0.0</td>\n",
       "    </tr>\n",
       "    <tr>\n",
       "      <th>146867</th>\n",
       "      <td>0.0</td>\n",
       "      <td>0.0</td>\n",
       "      <td>0.0</td>\n",
       "      <td>0.0</td>\n",
       "      <td>0.0</td>\n",
       "      <td>0.0</td>\n",
       "      <td>0.0</td>\n",
       "      <td>0.0</td>\n",
       "      <td>0.0</td>\n",
       "      <td>0.0</td>\n",
       "      <td>...</td>\n",
       "      <td>0.0</td>\n",
       "      <td>0.0</td>\n",
       "      <td>0.0</td>\n",
       "      <td>0.0</td>\n",
       "      <td>0.0</td>\n",
       "      <td>0.0</td>\n",
       "      <td>0.0</td>\n",
       "      <td>0.0</td>\n",
       "      <td>0.0</td>\n",
       "      <td>0.0</td>\n",
       "    </tr>\n",
       "    <tr>\n",
       "      <th>121958</th>\n",
       "      <td>0.0</td>\n",
       "      <td>0.0</td>\n",
       "      <td>0.0</td>\n",
       "      <td>0.0</td>\n",
       "      <td>0.0</td>\n",
       "      <td>0.0</td>\n",
       "      <td>0.0</td>\n",
       "      <td>0.0</td>\n",
       "      <td>0.0</td>\n",
       "      <td>0.0</td>\n",
       "      <td>...</td>\n",
       "      <td>0.0</td>\n",
       "      <td>0.0</td>\n",
       "      <td>0.0</td>\n",
       "      <td>0.0</td>\n",
       "      <td>0.0</td>\n",
       "      <td>0.0</td>\n",
       "      <td>0.0</td>\n",
       "      <td>0.0</td>\n",
       "      <td>0.0</td>\n",
       "      <td>0.0</td>\n",
       "    </tr>\n",
       "  </tbody>\n",
       "</table>\n",
       "<p>164041 rows × 1011 columns</p>\n",
       "</div>"
      ],
      "text/plain": [
       "         10  100  10k  10mins   11  11th  150  1599  15k   17  ...  writing  \\\n",
       "165013  0.0  0.0  0.0     0.0  0.0   0.0  0.0   0.0  0.0  0.0  ...      0.0   \n",
       "82939   0.0  0.0  0.0     0.0  0.0   0.0  0.0   0.0  0.0  0.0  ...      0.0   \n",
       "26246   0.0  0.0  0.0     0.0  0.0   0.0  0.0   0.0  0.0  0.0  ...      0.0   \n",
       "94043   0.0  0.0  0.0     0.0  0.0   0.0  0.0   0.0  0.0  0.0  ...      0.0   \n",
       "69954   0.0  0.0  0.0     0.0  0.0   0.0  0.0   0.0  0.0  0.0  ...      0.0   \n",
       "...     ...  ...  ...     ...  ...   ...  ...   ...  ...  ...  ...      ...   \n",
       "119879  0.0  0.0  0.0     0.0  0.0   0.0  0.0   0.0  0.0  0.0  ...      0.0   \n",
       "103694  0.0  0.0  0.0     0.0  0.0   0.0  0.0   0.0  0.0  0.0  ...      0.0   \n",
       "131932  0.0  0.0  0.0     0.0  0.0   0.0  0.0   0.0  0.0  0.0  ...      0.0   \n",
       "146867  0.0  0.0  0.0     0.0  0.0   0.0  0.0   0.0  0.0  0.0  ...      0.0   \n",
       "121958  0.0  0.0  0.0     0.0  0.0   0.0  0.0   0.0  0.0  0.0  ...      0.0   \n",
       "\n",
       "        wrong  xiaomi  yaar  year  years  yes  yield   yr  zero  \n",
       "165013    0.0     0.0   0.0   0.0    0.0  0.0    0.0  0.0   0.0  \n",
       "82939     0.0     0.0   0.0   0.0    0.0  0.0    0.0  0.0   0.0  \n",
       "26246     0.0     0.0   0.0   0.0    0.0  0.0    0.0  0.0   0.0  \n",
       "94043     0.0     0.0   0.0   0.0    0.0  0.0    0.0  0.0   0.0  \n",
       "69954     0.0     0.0   0.0   0.0    0.0  0.0    0.0  0.0   0.0  \n",
       "...       ...     ...   ...   ...    ...  ...    ...  ...   ...  \n",
       "119879    0.0     0.0   0.0   0.0    0.0  0.0    0.0  0.0   0.0  \n",
       "103694    0.0     0.0   0.0   0.0    0.0  0.0    0.0  0.0   0.0  \n",
       "131932    0.0     0.0   0.0   0.0    0.0  0.0    0.0  0.0   0.0  \n",
       "146867    0.0     0.0   0.0   0.0    0.0  0.0    0.0  0.0   0.0  \n",
       "121958    0.0     0.0   0.0   0.0    0.0  0.0    0.0  0.0   0.0  \n",
       "\n",
       "[164041 rows x 1011 columns]"
      ]
     },
     "execution_count": 113,
     "metadata": {},
     "output_type": "execute_result"
    }
   ],
   "source": [
    "pd.DataFrame.sparse.from_spmatrix(train_x_vector,\n",
    "                                  index=train_x.index,\n",
    "                                  columns=tfidf.get_feature_names_out())"
   ]
  },
  {
   "cell_type": "code",
   "execution_count": 114,
   "metadata": {
    "colab": {
     "base_uri": "https://localhost:8080/",
     "height": 90
    },
    "id": "uGyo6FFdEzEa",
    "outputId": "32496390-4d0b-4e4f-abaf-4876654b745d"
   },
   "outputs": [
    {
     "data": {
      "text/html": [
       "<style>#sk-container-id-5 {color: black;background-color: white;}#sk-container-id-5 pre{padding: 0;}#sk-container-id-5 div.sk-toggleable {background-color: white;}#sk-container-id-5 label.sk-toggleable__label {cursor: pointer;display: block;width: 100%;margin-bottom: 0;padding: 0.3em;box-sizing: border-box;text-align: center;}#sk-container-id-5 label.sk-toggleable__label-arrow:before {content: \"▸\";float: left;margin-right: 0.25em;color: #696969;}#sk-container-id-5 label.sk-toggleable__label-arrow:hover:before {color: black;}#sk-container-id-5 div.sk-estimator:hover label.sk-toggleable__label-arrow:before {color: black;}#sk-container-id-5 div.sk-toggleable__content {max-height: 0;max-width: 0;overflow: hidden;text-align: left;background-color: #f0f8ff;}#sk-container-id-5 div.sk-toggleable__content pre {margin: 0.2em;color: black;border-radius: 0.25em;background-color: #f0f8ff;}#sk-container-id-5 input.sk-toggleable__control:checked~div.sk-toggleable__content {max-height: 200px;max-width: 100%;overflow: auto;}#sk-container-id-5 input.sk-toggleable__control:checked~label.sk-toggleable__label-arrow:before {content: \"▾\";}#sk-container-id-5 div.sk-estimator input.sk-toggleable__control:checked~label.sk-toggleable__label {background-color: #d4ebff;}#sk-container-id-5 div.sk-label input.sk-toggleable__control:checked~label.sk-toggleable__label {background-color: #d4ebff;}#sk-container-id-5 input.sk-hidden--visually {border: 0;clip: rect(1px 1px 1px 1px);clip: rect(1px, 1px, 1px, 1px);height: 1px;margin: -1px;overflow: hidden;padding: 0;position: absolute;width: 1px;}#sk-container-id-5 div.sk-estimator {font-family: monospace;background-color: #f0f8ff;border: 1px dotted black;border-radius: 0.25em;box-sizing: border-box;margin-bottom: 0.5em;}#sk-container-id-5 div.sk-estimator:hover {background-color: #d4ebff;}#sk-container-id-5 div.sk-parallel-item::after {content: \"\";width: 100%;border-bottom: 1px solid gray;flex-grow: 1;}#sk-container-id-5 div.sk-label:hover label.sk-toggleable__label {background-color: #d4ebff;}#sk-container-id-5 div.sk-serial::before {content: \"\";position: absolute;border-left: 1px solid gray;box-sizing: border-box;top: 0;bottom: 0;left: 50%;z-index: 0;}#sk-container-id-5 div.sk-serial {display: flex;flex-direction: column;align-items: center;background-color: white;padding-right: 0.2em;padding-left: 0.2em;position: relative;}#sk-container-id-5 div.sk-item {position: relative;z-index: 1;}#sk-container-id-5 div.sk-parallel {display: flex;align-items: stretch;justify-content: center;background-color: white;position: relative;}#sk-container-id-5 div.sk-item::before, #sk-container-id-5 div.sk-parallel-item::before {content: \"\";position: absolute;border-left: 1px solid gray;box-sizing: border-box;top: 0;bottom: 0;left: 50%;z-index: -1;}#sk-container-id-5 div.sk-parallel-item {display: flex;flex-direction: column;z-index: 1;position: relative;background-color: white;}#sk-container-id-5 div.sk-parallel-item:first-child::after {align-self: flex-end;width: 50%;}#sk-container-id-5 div.sk-parallel-item:last-child::after {align-self: flex-start;width: 50%;}#sk-container-id-5 div.sk-parallel-item:only-child::after {width: 0;}#sk-container-id-5 div.sk-dashed-wrapped {border: 1px dashed gray;margin: 0 0.4em 0.5em 0.4em;box-sizing: border-box;padding-bottom: 0.4em;background-color: white;}#sk-container-id-5 div.sk-label label {font-family: monospace;font-weight: bold;display: inline-block;line-height: 1.2em;}#sk-container-id-5 div.sk-label-container {text-align: center;}#sk-container-id-5 div.sk-container {/* jupyter's `normalize.less` sets `[hidden] { display: none; }` but bootstrap.min.css set `[hidden] { display: none !important; }` so we also need the `!important` here to be able to override the default hidden behavior on the sphinx rendered scikit-learn.org. See: https://github.com/scikit-learn/scikit-learn/issues/21755 */display: inline-block !important;position: relative;}#sk-container-id-5 div.sk-text-repr-fallback {display: none;}</style><div id=\"sk-container-id-5\" class=\"sk-top-container\"><div class=\"sk-text-repr-fallback\"><pre>SVC(kernel=&#x27;linear&#x27;)</pre><b>In a Jupyter environment, please rerun this cell to show the HTML representation or trust the notebook. <br />On GitHub, the HTML representation is unable to render, please try loading this page with nbviewer.org.</b></div><div class=\"sk-container\" hidden><div class=\"sk-item\"><div class=\"sk-estimator sk-toggleable\"><input class=\"sk-toggleable__control sk-hidden--visually\" id=\"sk-estimator-id-5\" type=\"checkbox\" checked><label for=\"sk-estimator-id-5\" class=\"sk-toggleable__label sk-toggleable__label-arrow\">SVC</label><div class=\"sk-toggleable__content\"><pre>SVC(kernel=&#x27;linear&#x27;)</pre></div></div></div></div></div>"
      ],
      "text/plain": [
       "SVC(kernel='linear')"
      ]
     },
     "execution_count": 114,
     "metadata": {},
     "output_type": "execute_result"
    }
   ],
   "source": [
    "# Using support vector machines (SVC)to fit the transformed vector\n",
    "svc = SVC(kernel='linear')\n",
    "svc.fit(train_x_vector, train_y)"
   ]
  },
  {
   "cell_type": "code",
   "execution_count": 115,
   "metadata": {
    "colab": {
     "base_uri": "https://localhost:8080/"
    },
    "id": "iHPfRGj_G3Uo",
    "outputId": "51655329-4032-469b-9cd0-558210a6c73d"
   },
   "outputs": [
    {
     "data": {
      "text/plain": [
       "array(['negative', 'positive', 'positive', ..., 'positive', 'positive',\n",
       "       'positive'], dtype=object)"
      ]
     },
     "execution_count": 115,
     "metadata": {},
     "output_type": "execute_result"
    }
   ],
   "source": [
    "svc.predict(tfidf.transform(test_x.values.astype('U')))"
   ]
  },
  {
   "cell_type": "code",
   "execution_count": 116,
   "metadata": {
    "colab": {
     "base_uri": "https://localhost:8080/"
    },
    "id": "JfBhuTxPHLyP",
    "outputId": "8249e446-d566-40cd-f9f1-00b8b624ed05"
   },
   "outputs": [
    {
     "name": "stdout",
     "output_type": "stream",
     "text": [
      "0.8975884518787642\n"
     ]
    }
   ],
   "source": [
    "print(svc.score(test_x_vector, test_y))"
   ]
  },
  {
   "cell_type": "code",
   "execution_count": 117,
   "metadata": {},
   "outputs": [],
   "source": [
    "conf_mat = confusion_matrix(test_y,\n",
    "                           svc.predict(test_x_vector),\n",
    "                           labels = ['positive', 'negative'])"
   ]
  },
  {
   "cell_type": "code",
   "execution_count": 119,
   "metadata": {
    "id": "aWUtAUB4H376"
   },
   "outputs": [
    {
     "data": {
      "text/plain": [
       "array([[33111,   310],\n",
       "       [ 1857,  3700]], dtype=int64)"
      ]
     },
     "execution_count": 119,
     "metadata": {},
     "output_type": "execute_result"
    }
   ],
   "source": [
    "conf_mat"
   ]
  },
  {
   "cell_type": "code",
   "execution_count": 122,
   "metadata": {
    "colab": {
     "base_uri": "https://localhost:8080/",
     "height": 449
    },
    "id": "l_uT-6zJIQol",
    "outputId": "70826b5f-5b93-4f38-e9b8-2b39f395378e"
   },
   "outputs": [
    {
     "data": {
      "image/png": "[encoded data removed]",
      "text/plain": [
       "<Figure size 640x480 with 2 Axes>"
      ]
     },
     "metadata": {},
     "output_type": "display_data"
    }
   ],
   "source": [
    "# Plot the confusion matrix as a heatmap\n",
    "sns.heatmap(conf_mat, annot=True, cmap='GnBu', fmt='g')\n",
    "plt.xlabel('Predicted')\n",
    "plt.ylabel('True')\n",
    "plt.show()"
   ]
  },
  {
   "cell_type": "code",
   "execution_count": 123,
   "metadata": {
    "colab": {
     "base_uri": "https://localhost:8080/",
     "height": 206
    },
    "id": "mY-qxK8JIwsT",
    "outputId": "bd8fe966-9645-46f4-fb63-dbe24641aabb"
   },
   "outputs": [
    {
     "data": {
      "text/html": [
       "<div>\n",
       "<style scoped>\n",
       "    .dataframe tbody tr th:only-of-type {\n",
       "        vertical-align: middle;\n",
       "    }\n",
       "\n",
       "    .dataframe tbody tr th {\n",
       "        vertical-align: top;\n",
       "    }\n",
       "\n",
       "    .dataframe thead th {\n",
       "        text-align: right;\n",
       "    }\n",
       "</style>\n",
       "<table border=\"1\" class=\"dataframe\">\n",
       "  <thead>\n",
       "    <tr style=\"text-align: right;\">\n",
       "      <th></th>\n",
       "      <th>Review</th>\n",
       "      <th>Sentiment</th>\n",
       "    </tr>\n",
       "  </thead>\n",
       "  <tbody>\n",
       "    <tr>\n",
       "      <th>193551</th>\n",
       "      <td>worst experience ever!</td>\n",
       "      <td>neutral</td>\n",
       "    </tr>\n",
       "    <tr>\n",
       "      <th>149083</th>\n",
       "      <td>just wow!</td>\n",
       "      <td>positive</td>\n",
       "    </tr>\n",
       "    <tr>\n",
       "      <th>194975</th>\n",
       "      <td>classy product</td>\n",
       "      <td>positive</td>\n",
       "    </tr>\n",
       "    <tr>\n",
       "      <th>29981</th>\n",
       "      <td>simply awesome</td>\n",
       "      <td>positive</td>\n",
       "    </tr>\n",
       "    <tr>\n",
       "      <th>137259</th>\n",
       "      <td>simply awesome</td>\n",
       "      <td>positive</td>\n",
       "    </tr>\n",
       "  </tbody>\n",
       "</table>\n",
       "</div>"
      ],
      "text/plain": [
       "                        Review Sentiment\n",
       "193551  worst experience ever!   neutral\n",
       "149083               just wow!  positive\n",
       "194975          classy product  positive\n",
       "29981           simply awesome  positive\n",
       "137259          simply awesome  positive"
      ]
     },
     "execution_count": 123,
     "metadata": {},
     "output_type": "execute_result"
    }
   ],
   "source": [
    "# Concatenate the dataframes\n",
    "train_df_test = pd.concat([test_x, test_y], axis=1)\n",
    "train_df_test.head()"
   ]
  },
  {
   "cell_type": "code",
   "execution_count": 126,
   "metadata": {
    "colab": {
     "base_uri": "https://localhost:8080/"
    },
    "id": "0sI--e6LJ9DI",
    "outputId": "2da8fa6a-aa85-4377-d4a7-3d57d4ee3221"
   },
   "outputs": [
    {
     "data": {
      "text/plain": [
       "array(['negative'], dtype=object)"
      ]
     },
     "execution_count": 126,
     "metadata": {},
     "output_type": "execute_result"
    }
   ],
   "source": [
    "svc.predict(tfidf.transform([train_df_test['Review'][3948]]))"
   ]
  },
  {
   "cell_type": "code",
   "execution_count": 128,
   "metadata": {
    "colab": {
     "base_uri": "https://localhost:8080/"
    },
    "id": "xUlT6hV5KP97",
    "outputId": "a3077703-c590-436a-b53b-cd8b5dab53ae"
   },
   "outputs": [
    {
     "name": "stdout",
     "output_type": "stream",
     "text": [
      "              precision    recall  f1-score   support\n",
      "\n",
      "    positive       0.90      0.99      0.94     33421\n",
      "    negative       0.85      0.67      0.75      5557\n",
      "\n",
      "   micro avg       0.90      0.94      0.92     38978\n",
      "   macro avg       0.88      0.83      0.85     38978\n",
      "weighted avg       0.90      0.94      0.92     38978\n",
      "\n"
     ]
    }
   ],
   "source": [
    "#Ploting the classification report\n",
    "print(classification_report(test_y,\n",
    "                            svc.predict(test_x_vector),\n",
    "                            labels = ['positive','negative']))"
   ]
  },
  {
   "cell_type": "code",
   "execution_count": 135,
   "metadata": {
    "id": "Ttoh-Z-TLP2D"
   },
   "outputs": [],
   "source": []
  }
 ],
 "metadata": {
  "colab": {
   "provenance": []
  },
  "kernelspec": {
   "display_name": "Python 3 (ipykernel)",
   "language": "python",
   "name": "python3"
  },
  "language_info": {
   "codemirror_mode": {
    "name": "ipython",
    "version": 3
   },
   "file_extension": ".py",
   "mimetype": "text/x-python",
   "name": "python",
   "nbconvert_exporter": "python",
   "pygments_lexer": "ipython3",
   "version": "3.10.9"
  }
 },
 "nbformat": 4,
 "nbformat_minor": 1
}
